{
 "cells": [
  {
   "cell_type": "markdown",
   "id": "5120feb1",
   "metadata": {},
   "source": [
    "# 🌱 Intro to Python: Carbon Footprint Edition\n",
    "\n",
    "Welcome to your first Python lesson! In this notebook, we’ll explore Python basics while thinking about real-world data related to **carbon footprints** 🌍💨.\"\n",
    "\n",
    "***"
   ]
  },
  {
   "cell_type": "markdown",
   "id": "1e5d0c6f",
   "metadata": {},
   "source": [
    "## 🔤 Python Variables\n",
    "Variables store information. Let’s store the average carbon footprint (in metric tons of CO₂ per year) for individuals in different countries."
   ]
  },
  {
   "cell_type": "code",
   "execution_count": 6,
   "id": "4ddc5b6e",
   "metadata": {},
   "outputs": [
    {
     "name": "stdout",
     "output_type": "stream",
     "text": [
      "USA 16.5\n",
      "India 1.9\n",
      "Nigeria 0.7\n"
     ]
    }
   ],
   "source": [
    "# Define variable names for average individual CO2 emissions (in tons)\n",
    "usa_footprint = 16.5\n",
    "\n",
    "india_footprint = 1.9\n",
    "nigeria_footprint = 0.7\n",
    "\n",
    "# Use print() statements to report values\n",
    "\n",
    "print(\"USA\",usa_footprint)\n",
    "print(\"India\", india_footprint)\n",
    "print(\"Nigeria\", nigeria_footprint)\n"
   ]
  },
  {
   "cell_type": "markdown",
   "id": "7a05f34d",
   "metadata": {},
   "source": [
    "## ➕ Python Operators\n",
    "We can do math with Python. Let’s calculate the difference between footprints."
   ]
  },
  {
   "cell_type": "code",
   "execution_count": null,
   "id": "1f71c442",
   "metadata": {},
   "outputs": [],
   "source": [
    "# Take difference between USA and India footprints\n",
    "usa_footprint - india_footprint"
   ]
  },
  {
   "cell_type": "code",
   "execution_count": null,
   "id": "a8238ccb",
   "metadata": {},
   "outputs": [],
   "source": [
    "#Multiply USA and India footprints\n",
    "usa_footprint * india_footprint"
   ]
  },
  {
   "cell_type": "markdown",
   "id": "4ca45818",
   "metadata": {},
   "source": [
    "You can use:\n",
    "\n",
    "+ `+` for addition\n",
    "\n",
    "+ `-` for subtraction\n",
    "\n",
    "+ `*` for multiplication\n",
    "\n",
    "+ `/` for division\n",
    "\n",
    "Let’s calculate how much CO₂ 5 people in the U.S. emit:"
   ]
  },
  {
   "cell_type": "code",
   "execution_count": 10,
   "id": "a1a239f7",
   "metadata": {},
   "outputs": [
    {
     "name": "stdout",
     "output_type": "stream",
     "text": [
      "The amount of CO2 5 people emit in the U.S is 82.5 tons of CO2\n"
     ]
    }
   ],
   "source": [
    "# Calculate footprint for 5 Americans\n",
    "US_People = 5\n",
    "total_emissions = US_People * usa_footprint\n",
    "print(\"The amount of CO2 5 people emit in the U.S is \" + str(total_emissions) + \" tons of CO2\")"
   ]
  },
  {
   "cell_type": "markdown",
   "id": "3a38ba31",
   "metadata": {},
   "source": [
    "## 📋 Lists in Python\n",
    "A list lets us store multiple values in one place."
   ]
  },
  {
   "cell_type": "code",
   "execution_count": 12,
   "id": "cf3b2552",
   "metadata": {},
   "outputs": [
    {
     "name": "stdout",
     "output_type": "stream",
     "text": [
      "The list of countries is:  ['USA', 'India', 'Nigeria']\n",
      "The list of footprints is:  [16.5, 1.9, 0.7]\n"
     ]
    }
   ],
   "source": [
    "#Create lists of countries and footprints\n",
    "countries = [\"USA\", \"India\", \"Nigeria\"]\n",
    "footprints = [16.5, 1.9, 0.7]\n",
    "\n",
    "print(\"The list of countries is: \", countries)\n",
    "print(\"The list of footprints is: \", footprints)\n"
   ]
  },
  {
   "cell_type": "markdown",
   "id": "d399b09e",
   "metadata": {},
   "source": [
    "We can get specific values from a list using indexing:"
   ]
  },
  {
   "cell_type": "code",
   "execution_count": 13,
   "id": "466dfe58",
   "metadata": {},
   "outputs": [
    {
     "data": {
      "text/plain": [
       "'USA'"
      ]
     },
     "execution_count": 13,
     "metadata": {},
     "output_type": "execute_result"
    }
   ],
   "source": [
    "#select 1st element of countries list\n",
    "countries[0]"
   ]
  },
  {
   "cell_type": "markdown",
   "id": "d33368e7",
   "metadata": {},
   "source": [
    "## 🔁 Loops\n",
    "Let’s loop through our list and print out each country’s footprint."
   ]
  },
  {
   "cell_type": "code",
   "execution_count": null,
   "id": "42e0182a",
   "metadata": {},
   "outputs": [],
   "source": []
  },
  {
   "cell_type": "code",
   "execution_count": 15,
   "id": "65d49068",
   "metadata": {},
   "outputs": [
    {
     "name": "stdout",
     "output_type": "stream",
     "text": [
      "USA\n",
      "India\n",
      "Nigeria\n"
     ]
    }
   ],
   "source": [
    "#Loop through each element\n",
    "for i in countries:\n",
    "    print(i)"
   ]
  },
  {
   "cell_type": "markdown",
   "id": "34fa31ef",
   "metadata": {},
   "source": [
    "# 🧮 Functions\n",
    "Functions let us reuse code. Let’s write one that estimates a total footprint based on per-person values."
   ]
  },
  {
   "cell_type": "code",
   "execution_count": 18,
   "id": "8fdd196f",
   "metadata": {},
   "outputs": [
    {
     "name": "stdout",
     "output_type": "stream",
     "text": [
      "The total number of footprint that 35 people emit in carbon is 577.5\n"
     ]
    }
   ],
   "source": [
    "def total_footprint(per_person,num_people):\n",
    "    total = per_person * num_people\n",
    "    return total\n",
    "\n",
    "USA_Total = total_footprint(usa_footprint, 35)\n",
    "print(\"The total number of footprint that 35 people emit in carbon is \" + str(USA_Total))"
   ]
  },
  {
   "cell_type": "markdown",
   "id": "90cf2aea",
   "metadata": {},
   "source": [
    "# ✅ Challenge: Try it yourself!\n",
    "1.) Add another country to the list with its carbon footprint.\n",
    "\n",
    "2.) Write a function that tells you whether a country's footprint is low, medium, or high.\n",
    "\n",
    "3.) Use a loop to print each country’s status using your new function"
   ]
  }
 ],
 "metadata": {
  "kernelspec": {
   "display_name": "base",
   "language": "python",
   "name": "python3"
  },
  "language_info": {
   "codemirror_mode": {
    "name": "ipython",
    "version": 3
   },
   "file_extension": ".py",
   "mimetype": "text/x-python",
   "name": "python",
   "nbconvert_exporter": "python",
   "pygments_lexer": "ipython3",
   "version": "3.11.6"
  }
 },
 "nbformat": 4,
 "nbformat_minor": 5
}
